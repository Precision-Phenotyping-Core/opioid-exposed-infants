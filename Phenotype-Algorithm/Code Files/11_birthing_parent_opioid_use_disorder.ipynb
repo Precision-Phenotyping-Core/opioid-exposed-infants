{
 "cells": [
  {
   "cell_type": "markdown",
   "metadata": {
    "application/vnd.databricks.v1+cell": {
     "cellMetadata": {},
     "inputWidgets": {},
     "nuid": "d7753b74-4486-4e90-9231-2b6e499b64bd",
     "showTitle": false,
     "title": ""
    }
   },
   "source": [
    "# Project: Performance of phenotype algorithms for the identification of opioid-exposed infants, Andrew D. Wiese et al. Hospital Pediatrics 2024\n",
    "# Title: Identify birthing parents with opioid use disorder diagnosis based on ICD codes\n",
    "# Summary: \n",
    "## Identify birthing parents with opioid use disorder diagnosis based on ICD codes from estimated time of conception through 30-days after delivery\n",
    "\n",
    "# Notes:\n",
    "- ICD code criteria: >2x outpatient ICD codes our >1x inpatient ICD code\n",
    "- If the record had the visit_occurrence_id and visit_occurrence_id was not '0', then using visit_occurrence_id to check it in visit_occurrence, find the visit_concept_id, if it is '9201', then it was the inpatient; '9202', it was 'outpatient'.\n",
    "- If there is no visit_occurrence_id, then using the visit_date\n"
   ]
  },
  {
   "cell_type": "markdown",
   "metadata": {
    "application/vnd.databricks.v1+cell": {
     "cellMetadata": {},
     "inputWidgets": {},
     "nuid": "ef366f88-8ddf-4e8a-9c12-ead260908b94",
     "showTitle": false,
     "title": ""
    }
   },
   "source": [
    "\n",
    "##### Algorithm steps:\n",
    "```\n",
    "1. Read MOM OUD diagnosis code list\n",
    "\n",
    "2. Search condition, procedure, and observation tables for records with OUD codes\n",
    "   - Join to gestational age info to filter prenatal period\n",
    "\n",
    "3. For records with visit_occurrence_id:\n",
    "   - Classify as inpatient or outpatient based on visit_concept_id\n",
    "\n",
    "4. For records without visit_occurrence_id:\n",
    "   - Classify based on visit start/end dates\n",
    "\n",
    "5. Define groups for 1x inpatient and 2x outpatient\n",
    "\n",
    "6. Update with records that had no visit_occurrence_id using classification rules\n",
    "\n",
    "7. Redefine 1x inpatient and 2x outpatient groups on updated data\n",
    "```\n",
    "\n",
    "##### Data Dictionaries:\n",
    "\n",
    "**mom_oud_code_list** - List of ICD9/10 codes indicating maternal opioid use disorder\n",
    "\n",
    "**cond_table** - condition_occurrence table\n",
    "\n",
    "**proc_table** - procedure_occurrence table \n",
    "\n",
    "**obs_table** - observation table\n",
    "\n",
    "**visit_table** - visit_occurrence table\n",
    "\n",
    "**mom_baby_step4_mom_oud** - Records with OUD codes linked to mom/baby info\n",
    "\n",
    "**mom_baby_step4_mom_oud_ip1** - Distinct mom/baby pairs with 1+ inpatient OUD codes\n",
    "\n",
    "**mom_baby_step4_mom_oud_op2** - Distinct mom/baby pairs with 2+ outpatient OUD codes \n",
    "\n",
    "**mom_baby_step4_mom_oud_novisit_ids** - OUD records without visit_occurrence_id\n",
    "\n",
    "**mom_baby_step4_mom_oud_novisitoccurrenceid** - OUD records without visit_occurrence_id\n",
    "\n",
    "**mom_baby_step4_mom_oud_novisitoccurrenceid_cond1** - Classified inpatient/outpatient using visit start/end dates\n",
    "\n",
    "**mom_baby_step4_mom_oud_novisitoccurrenceid_cond2** - Classified as inpatient with no visit end date\n",
    "\n",
    "**mom_baby_step4_mom_oud_novisitoccurrenceid_cond3** - Classified as outpatient with no visit end date \n",
    "\n",
    "**mom_baby_step4_mom_oud_update** - Combined data with visit_occurrence_id and rules-based classifications\n",
    "\n",
    "**mom_baby_step4_mom_oud_ip1_update** - Redefined 1x inpatient group on updated data\n",
    "\n",
    "**mom_baby_step4_mom_oud_op2_update** - Redefined 2x outpatient group on updated data\n",
    "\n",
    "##### Usage Notes:\n",
    "```\n",
    "- This identifies mothers with opioid use disorder during pregnancy using diagnosis codes\n",
    "- It handles cases both with and without associated visit_occurrence_id\n",
    "- The outpatient definition requires 2+ codes, while inpatient only requires 1+\n",
    "- Output is two distinct groups - 1x inpatient OUD and 2x outpatient OUD\n",
    "```"
   ]
  },
  {
   "cell_type": "code",
   "execution_count": 0,
   "metadata": {
    "ExecuteTime": {
     "end_time": "2023-01-09T19:10:42.200644Z",
     "start_time": "2023-01-09T19:10:42.187962Z"
    },
    "application/vnd.databricks.v1+cell": {
     "cellMetadata": {
      "byteLimit": 2048000,
      "rowLimit": 10000
     },
     "inputWidgets": {},
     "nuid": "88f12b12-f0a9-466c-bb93-777421e50b27",
     "showTitle": false,
     "title": ""
    }
   },
   "outputs": [],
   "source": [
    "%run \"./project_modules\""
   ]
  },
  {
   "cell_type": "markdown",
   "metadata": {
    "application/vnd.databricks.v1+cell": {
     "cellMetadata": {},
     "inputWidgets": {},
     "nuid": "1a254e50-d437-4241-af84-e73249ba28cf",
     "showTitle": false,
     "title": ""
    }
   },
   "source": [
    "##### MOM OUD CODEs"
   ]
  },
  {
   "cell_type": "code",
   "execution_count": 0,
   "metadata": {
    "ExecuteTime": {
     "end_time": "2023-01-09T19:10:57.459611Z",
     "start_time": "2023-01-09T19:10:56.692398Z"
    },
    "application/vnd.databricks.v1+cell": {
     "cellMetadata": {
      "byteLimit": 2048000,
      "rowLimit": 10000
     },
     "inputWidgets": {},
     "nuid": "6a240717-9555-4289-9f42-0fde649dbca5",
     "showTitle": false,
     "title": ""
    }
   },
   "outputs": [],
   "source": [
    "sql=f\"select * from {mom_oud_code_list};\"\n",
    "spark.sql(sql).display()"
   ]
  },
  {
   "cell_type": "code",
   "execution_count": 0,
   "metadata": {
    "application/vnd.databricks.v1+cell": {
     "cellMetadata": {
      "byteLimit": 2048000,
      "rowLimit": 10000
     },
     "inputWidgets": {},
     "nuid": "3430ac82-0f31-4b59-8f65-afe535bdc606",
     "showTitle": false,
     "title": ""
    }
   },
   "outputs": [],
   "source": [
    "def mon_records_code_list(term):\n",
    "    \n",
    "    if (term==\"condition\"):\n",
    "        date_str=\"condition_start_date\"\n",
    "        datetime_str=\"condition_start_date\"\n",
    "        table_source=cond_table\n",
    "    elif (term==\"procedure\"):\n",
    "        date_str=\"procedure_date\"\n",
    "        datetime_str=\"procedure_datetime\"\n",
    "        table_source=proc_table\n",
    "    elif (term==\"observation\"):\n",
    "        date_str=\"observation_date\"\n",
    "        datetime_str=\"observation_date\"\n",
    "        table_source=obs_table\n",
    "        \n",
    "    sql=f\"\"\"\n",
    "       select  b.*, {term}_source_value as code,{date_str} as code_date,{datetime_str} as code_datetime,visit_occurrence_id from \n",
    "       (select * from {table_source} where {term}_source_value in (select mycode from {mom_oud_code_list})) a \n",
    "       inner join \n",
    "       (select mom_person_id, baby_person_id,baby_dob,start_gestation_date,length_of_gestation \n",
    "       from global_temp.ega_w33_or_uncertain_gestation_date) b \n",
    "       on a.person_id = b.mom_person_id\n",
    "       \"\"\"\n",
    "    \n",
    "    df = spark.sql(sql)\n",
    "    print(\"term:\",term,\", record count:\",df.count())\n",
    "    return df"
   ]
  },
  {
   "cell_type": "markdown",
   "metadata": {
    "ExecuteTime": {
     "end_time": "2023-01-09T19:13:44.631902Z",
     "start_time": "2023-01-09T19:13:44.629262Z"
    },
    "application/vnd.databricks.v1+cell": {
     "cellMetadata": {},
     "inputWidgets": {},
     "nuid": "79e24129-e057-4a87-bda1-e791f4714b8f",
     "showTitle": false,
     "title": ""
    }
   },
   "source": [
    "##### Searching condition, procedure and observation with OUD codes"
   ]
  },
  {
   "cell_type": "code",
   "execution_count": 0,
   "metadata": {
    "application/vnd.databricks.v1+cell": {
     "cellMetadata": {
      "byteLimit": 2048000,
      "rowLimit": 10000
     },
     "inputWidgets": {},
     "nuid": "35d622bd-5a16-47ff-8ee5-97f8290a5467",
     "showTitle": false,
     "title": ""
    }
   },
   "outputs": [],
   "source": [
    "cond_df=mon_records_code_list('condition')\n",
    "proc_df=mon_records_code_list('procedure')\n",
    "obs_df=mon_records_code_list('observation')\n",
    "union_dataframes([cond_df,proc_df,obs_df]).createOrReplaceTempView(\"merged_df\")\n",
    "\n",
    "sql=f\"\"\"\n",
    "        select * from (\n",
    "        select * from merged_df\n",
    "        where code_date >= start_gestation_date and code_date <  date(baby_dob) + 30)\n",
    "        left join \n",
    "        (select visit_occurrence_id as v_id,visit_concept_id from {visit_table}) d\n",
    "        on visit_occurrence_id = d.v_id\n",
    "       \n",
    "    \"\"\"\n",
    "\n",
    "mom_baby_step4_mom_oud= spark.sql(sql).drop('v_id')\n",
    "mom_baby_step4_mom_oud.createOrReplaceTempView(\"mom_baby_step4_mom_oud\")"
   ]
  },
  {
   "cell_type": "code",
   "execution_count": 0,
   "metadata": {
    "ExecuteTime": {
     "end_time": "2023-01-09T19:21:48.801961Z",
     "start_time": "2023-01-09T19:21:46.918224Z"
    },
    "application/vnd.databricks.v1+cell": {
     "cellMetadata": {
      "byteLimit": 2048000,
      "rowLimit": 10000
     },
     "inputWidgets": {},
     "nuid": "0266d669-a148-4801-8b84-99dd2fa7171c",
     "showTitle": false,
     "title": ""
    }
   },
   "outputs": [],
   "source": [
    "df_inspection(\"mom_baby_step4_mom_oud\",\"all\")"
   ]
  },
  {
   "cell_type": "markdown",
   "metadata": {
    "application/vnd.databricks.v1+cell": {
     "cellMetadata": {
      "byteLimit": 2048000,
      "rowLimit": 10000
     },
     "inputWidgets": {},
     "nuid": "6f768767-8769-4356-af2c-0237f87682ba",
     "showTitle": false,
     "title": ""
    }
   },
   "source": [
    "##### 1x inpatient (for inpatient, just need had one time OUD code)\n",
    "##### select id from table_name group by id having count(*) > 0 (at least 1)."
   ]
  },
  {
   "cell_type": "code",
   "execution_count": 0,
   "metadata": {
    "application/vnd.databricks.v1+cell": {
     "cellMetadata": {
      "byteLimit": 2048000,
      "rowLimit": 10000
     },
     "inputWidgets": {},
     "nuid": "a58422d2-c0b7-43c6-a00e-c663bf562d2b",
     "showTitle": false,
     "title": ""
    }
   },
   "outputs": [],
   "source": [
    "sql=\"\"\"\n",
    "      select mom_person_id,baby_person_id from \n",
    "      (select distinct * from mom_baby_step4_mom_oud where visit_concept_id = '9201')\n",
    "      group by mom_person_id,baby_person_id \n",
    "      having count(*) > 0 ;\n",
    "    \"\"\"\n",
    "spark.sql(sql).createOrReplaceTempView(\"mom_baby_step4_mom_oud_ip1\")"
   ]
  },
  {
   "cell_type": "markdown",
   "metadata": {
    "application/vnd.databricks.v1+cell": {
     "cellMetadata": {
      "byteLimit": 2048000,
      "rowLimit": 10000
     },
     "inputWidgets": {},
     "nuid": "1a984821-d7f1-4168-9796-81e9c8370dab",
     "showTitle": false,
     "title": ""
    }
   },
   "source": [
    "##### 2x outpatient  (for outpatient, just need had two times OUD code)"
   ]
  },
  {
   "cell_type": "code",
   "execution_count": 0,
   "metadata": {
    "application/vnd.databricks.v1+cell": {
     "cellMetadata": {
      "byteLimit": 2048000,
      "rowLimit": 10000
     },
     "inputWidgets": {},
     "nuid": "6997ee17-a16f-4991-a054-487fcf51e077",
     "showTitle": false,
     "title": ""
    }
   },
   "outputs": [],
   "source": [
    "sql=\"\"\"\n",
    "     select mom_person_id,baby_person_id from \n",
    "     (select distinct * from mom_baby_step4_mom_oud where visit_concept_id = '9202')\n",
    "     group by mom_person_id,baby_person_id \n",
    "     having count(*) > 1 ;\n",
    "    \"\"\"\n",
    "spark.sql(sql).createOrReplaceTempView(\"mom_baby_step4_mom_oud_op2\")"
   ]
  },
  {
   "cell_type": "markdown",
   "metadata": {
    "application/vnd.databricks.v1+cell": {
     "cellMetadata": {
      "byteLimit": 2048000,
      "rowLimit": 10000
     },
     "inputWidgets": {},
     "nuid": "b0abbf9a-6f4c-4ad4-9a9b-06cbeb5203cd",
     "showTitle": false,
     "title": ""
    }
   },
   "source": [
    "#### Get the ID that without visit_occurrence_id and the ID did not in the ip1/op2 groups"
   ]
  },
  {
   "cell_type": "code",
   "execution_count": 0,
   "metadata": {
    "application/vnd.databricks.v1+cell": {
     "cellMetadata": {
      "byteLimit": 2048000,
      "rowLimit": 10000
     },
     "inputWidgets": {},
     "nuid": "162bda33-e47d-476f-9f27-44a437708cd9",
     "showTitle": false,
     "title": ""
    }
   },
   "outputs": [],
   "source": [
    "sql=\"\"\"\n",
    "       select a.mom_person_id,a.baby_person_id from \n",
    "       (select mom_person_id,baby_person_id from mom_baby_step4_mom_oud where visit_occurrence_id is null) a \n",
    "       left join \n",
    "       (\n",
    "        select mom_person_id,baby_person_id from mom_baby_step4_mom_oud_ip1 \n",
    "        union \n",
    "        select mom_person_id,baby_person_id from mom_baby_step4_mom_oud_op2 \n",
    "       ) b\n",
    "       \n",
    "       on a.mom_person_id = b.mom_person_id and a.baby_person_id=b.baby_person_id\n",
    "       where b.mom_person_id is null;\n",
    "\n",
    "    \"\"\"\n",
    "mom_baby_step4_mom_oud_novisit_ids= spark.sql(sql)\n",
    "mom_baby_step4_mom_oud_novisit_ids.createOrReplaceTempView(\"mom_baby_step4_mom_oud_novisit_ids\")"
   ]
  },
  {
   "cell_type": "markdown",
   "metadata": {
    "application/vnd.databricks.v1+cell": {
     "cellMetadata": {
      "byteLimit": 2048000,
      "rowLimit": 10000
     },
     "inputWidgets": {},
     "nuid": "1d695ddf-40f8-4187-8cc3-fece08a5beb4",
     "showTitle": false,
     "title": ""
    }
   },
   "source": [
    "##### Create view that there is no visit_occurrence_id information"
   ]
  },
  {
   "cell_type": "code",
   "execution_count": 0,
   "metadata": {
    "application/vnd.databricks.v1+cell": {
     "cellMetadata": {
      "byteLimit": 2048000,
      "rowLimit": 10000
     },
     "inputWidgets": {},
     "nuid": "7a1e190c-ed1e-4001-8584-0b5a105ba59f",
     "showTitle": false,
     "title": ""
    }
   },
   "outputs": [],
   "source": [
    "sql=\"\"\"\n",
    "       select a.* from mom_baby_step4_mom_oud a\n",
    "       inner join \n",
    "       mom_baby_step4_mom_oud_novisit_ids b\n",
    "       on a.mom_person_id = b.mom_person_id and \n",
    "       a.baby_person_id = b.baby_person_id;\n",
    "\n",
    "    \"\"\"\n",
    "mom_baby_step4_mom_oud_novisitoccurrenceid= spark.sql(sql)\n",
    "mom_baby_step4_mom_oud_novisitoccurrenceid.createOrReplaceTempView(\"mom_baby_step4_mom_oud_novisitoccurrenceid\")"
   ]
  },
  {
   "cell_type": "markdown",
   "metadata": {
    "application/vnd.databricks.v1+cell": {
     "cellMetadata": {
      "byteLimit": 2048000,
      "rowLimit": 10000
     },
     "inputWidgets": {},
     "nuid": "0c4d1d00-aca0-4393-b33b-4dfaaf96800c",
     "showTitle": false,
     "title": ""
    }
   },
   "source": [
    "##### Condition1:  had visit_end_date"
   ]
  },
  {
   "cell_type": "code",
   "execution_count": 0,
   "metadata": {
    "application/vnd.databricks.v1+cell": {
     "cellMetadata": {
      "byteLimit": 2048000,
      "rowLimit": 10000
     },
     "inputWidgets": {},
     "nuid": "cea0ca42-84be-4976-a715-14014d5abe7c",
     "showTitle": false,
     "title": ""
    }
   },
   "outputs": [],
   "source": [
    "sql=f\"\"\"\n",
    "       select  distinct a.mom_person_id,a.baby_person_id,a.baby_dob,a.start_gestation_date,\n",
    "       a.length_of_gestation,a.code,a.code_date,a.code_datetime,b.visit_occurrence_id,b.visit_concept_id\n",
    "       \n",
    "       from mom_baby_step4_mom_oud_novisitoccurrenceid a\n",
    "       \n",
    "       inner join \n",
    "       {visit_table} b \n",
    "       on a.mom_person_id = b.person_id and visit_end_date is not null\n",
    "       and visit_start_date <= code_date and code_date < visit_end_date;\n",
    "\n",
    "    \"\"\"\n",
    "mom_baby_step4_mom_oud_novisitoccurrenceid_cond1= spark.sql(sql)\n",
    "mom_baby_step4_mom_oud_novisitoccurrenceid_cond1.createOrReplaceTempView(\"mom_baby_step4_mom_oud_novisitoccurrenceid_cond1\")"
   ]
  },
  {
   "cell_type": "markdown",
   "metadata": {
    "application/vnd.databricks.v1+cell": {
     "cellMetadata": {
      "byteLimit": 2048000,
      "rowLimit": 10000
     },
     "inputWidgets": {},
     "nuid": "8e5ea256-d307-430b-8a2b-4c54f85f98c7",
     "showTitle": false,
     "title": ""
    }
   },
   "source": [
    "##### Condition2:  did not have visit_end_date, and visit concept is '9201'"
   ]
  },
  {
   "cell_type": "code",
   "execution_count": 0,
   "metadata": {
    "application/vnd.databricks.v1+cell": {
     "cellMetadata": {
      "byteLimit": 2048000,
      "rowLimit": 10000
     },
     "inputWidgets": {},
     "nuid": "21d6a792-121e-4c58-aba5-25ad23c09de5",
     "showTitle": false,
     "title": ""
    }
   },
   "outputs": [],
   "source": [
    "sql=f\"\"\"\n",
    "       select  distinct a.mom_person_id,a.baby_person_id,a.baby_dob,a.start_gestation_date,\n",
    "       a.length_of_gestation,a.code,\n",
    "       a.code_date,a.code_datetime,b.visit_occurrence_id,b.visit_concept_id \n",
    "       from mom_baby_step4_mom_oud_novisitoccurrenceid a\n",
    "       left join \n",
    "       {visit_table} b \n",
    "       on a.mom_person_id = b.person_id and visit_end_date is null\n",
    "       where b.visit_concept_id = '9201'\n",
    "       and visit_start_date <= code_date and code_date < date_add(visit_start_date, 30);\n",
    "     \"\"\"\n",
    "mom_baby_step4_mom_oud_novisitoccurrenceid_cond2= spark.sql(sql)\n",
    "mom_baby_step4_mom_oud_novisitoccurrenceid_cond2.createOrReplaceTempView(\"mom_baby_step4_mom_oud_novisitoccurrenceid_cond2\")"
   ]
  },
  {
   "cell_type": "markdown",
   "metadata": {
    "application/vnd.databricks.v1+cell": {
     "cellMetadata": {
      "byteLimit": 2048000,
      "rowLimit": 10000
     },
     "inputWidgets": {},
     "nuid": "228e134a-62b0-4b6b-9e69-054693164a21",
     "showTitle": false,
     "title": ""
    }
   },
   "source": [
    "##### Condition3:  did not have visit_end_date, and visit concept is '9202'"
   ]
  },
  {
   "cell_type": "code",
   "execution_count": 0,
   "metadata": {
    "ExecuteTime": {
     "end_time": "2023-01-09T19:52:49.739375Z",
     "start_time": "2023-01-09T19:52:40.541091Z"
    },
    "application/vnd.databricks.v1+cell": {
     "cellMetadata": {
      "byteLimit": 2048000,
      "rowLimit": 10000
     },
     "inputWidgets": {},
     "nuid": "0c18642d-1415-41c7-ae79-05293a0ab28e",
     "showTitle": false,
     "title": ""
    }
   },
   "outputs": [],
   "source": [
    "sql=f\"\"\"\n",
    "       select  distinct a.mom_person_id,a.baby_person_id,a.baby_dob,a.start_gestation_date,\n",
    "       a.length_of_gestation,a.code,a.code_date,\n",
    "       a.code_datetime,b.visit_occurrence_id,b.visit_concept_id \n",
    "       from mom_baby_step4_mom_oud_novisitoccurrenceid a\n",
    "       left join \n",
    "       {visit_table} b \n",
    "       on a.mom_person_id = b.person_id and visit_end_date is null\n",
    "       where b.visit_concept_id = '9202'\n",
    "       and visit_start_date <= code_date and code_date < date_add(visit_start_date, 3);\n",
    "     \"\"\"\n",
    "mom_baby_step4_mom_oud_novisitoccurrenceid_cond3= spark.sql(sql)\n",
    "mom_baby_step4_mom_oud_novisitoccurrenceid_cond3.createOrReplaceTempView(\"mom_baby_step4_mom_oud_novisitoccurrenceid_cond3\")"
   ]
  },
  {
   "cell_type": "markdown",
   "metadata": {
    "application/vnd.databricks.v1+cell": {
     "cellMetadata": {
      "byteLimit": 2048000,
      "rowLimit": 10000
     },
     "inputWidgets": {},
     "nuid": "f55cfbee-014d-4b7e-bba9-99f465d3d7da",
     "showTitle": false,
     "title": ""
    }
   },
   "source": [
    "##### Merge mom_baby_step4_mom_oud with all 3 conditions which has been cleaned and defined if inpatient or outpatient"
   ]
  },
  {
   "cell_type": "code",
   "execution_count": 0,
   "metadata": {
    "application/vnd.databricks.v1+cell": {
     "cellMetadata": {
      "byteLimit": 2048000,
      "rowLimit": 10000
     },
     "inputWidgets": {},
     "nuid": "667e125c-a869-404a-9ae6-8eb0e12df123",
     "showTitle": false,
     "title": ""
    }
   },
   "outputs": [],
   "source": [
    "sql=\"\"\"\n",
    "       select * from mom_baby_step4_mom_oud\n",
    "       union \n",
    "       select * from mom_baby_step4_mom_oud_novisitoccurrenceid_cond1\n",
    "       union \n",
    "       select * from mom_baby_step4_mom_oud_novisitoccurrenceid_cond2\n",
    "       union \n",
    "       select * from mom_baby_step4_mom_oud_novisitoccurrenceid_cond3;\n",
    "\n",
    "    \"\"\"\n",
    "mom_baby_step4_mom_oud_update = spark.sql(sql)\n",
    "mom_baby_step4_mom_oud_update.name='mom_baby_step4_mom_oud_update'\n",
    "register_parquet_global_view(mom_baby_step4_mom_oud_update)"
   ]
  },
  {
   "cell_type": "code",
   "execution_count": 0,
   "metadata": {
    "ExecuteTime": {
     "end_time": "2023-01-09T19:59:29.515069Z",
     "start_time": "2023-01-09T19:59:05.952821Z"
    },
    "application/vnd.databricks.v1+cell": {
     "cellMetadata": {
      "byteLimit": 2048000,
      "rowLimit": 10000
     },
     "inputWidgets": {},
     "nuid": "cb921d8c-6cd5-42f9-bc55-032ca5eed2e0",
     "showTitle": false,
     "title": ""
    }
   },
   "outputs": [],
   "source": [
    "df_inspection(\"global_temp.mom_baby_step4_mom_oud_update\",\"all\")"
   ]
  },
  {
   "cell_type": "markdown",
   "metadata": {
    "application/vnd.databricks.v1+cell": {
     "cellMetadata": {
      "byteLimit": 2048000,
      "rowLimit": 10000
     },
     "inputWidgets": {},
     "nuid": "30c309fa-c577-4d7c-b933-84893d22bb06",
     "showTitle": false,
     "title": ""
    }
   },
   "source": [
    "##### define if 1x inpatient again"
   ]
  },
  {
   "cell_type": "code",
   "execution_count": 0,
   "metadata": {
    "application/vnd.databricks.v1+cell": {
     "cellMetadata": {
      "byteLimit": 2048000,
      "rowLimit": 10000
     },
     "inputWidgets": {},
     "nuid": "1ba23dd0-7425-4f97-a4a1-965a9583a72e",
     "showTitle": false,
     "title": ""
    }
   },
   "outputs": [],
   "source": [
    "sql=\"\"\"\n",
    "     select mom_person_id,baby_person_id from \n",
    "     (select distinct * from global_temp.mom_baby_step4_mom_oud_update where visit_concept_id = '9201') \n",
    "      \n",
    "     group by mom_person_id,baby_person_id \n",
    "     having count(*) > 0 ;\n",
    "    \"\"\"\n",
    "mom_baby_step4_mom_oud_ip1_update = spark.sql(sql)\n",
    "mom_baby_step4_mom_oud_ip1_update.name='mom_baby_step4_mom_oud_ip1_update'\n",
    "register_parquet_global_view(mom_baby_step4_mom_oud_ip1_update)"
   ]
  },
  {
   "cell_type": "code",
   "execution_count": 0,
   "metadata": {
    "ExecuteTime": {
     "end_time": "2023-01-09T20:01:45.282099Z",
     "start_time": "2023-01-09T20:01:21.632990Z"
    },
    "application/vnd.databricks.v1+cell": {
     "cellMetadata": {
      "byteLimit": 2048000,
      "rowLimit": 10000
     },
     "inputWidgets": {},
     "nuid": "9623ae2c-077a-44d0-b2ae-d2950e4c4fd5",
     "showTitle": false,
     "title": ""
    }
   },
   "outputs": [],
   "source": [
    "df_inspection(\"global_temp.mom_baby_step4_mom_oud_ip1_update\",\"all\")\n"
   ]
  },
  {
   "cell_type": "markdown",
   "metadata": {
    "application/vnd.databricks.v1+cell": {
     "cellMetadata": {
      "byteLimit": 2048000,
      "rowLimit": 10000
     },
     "inputWidgets": {},
     "nuid": "0d7ba4c0-8746-4b24-8f18-4ff5d4d15051",
     "showTitle": false,
     "title": ""
    }
   },
   "source": [
    "##### define if 2x outpatient again"
   ]
  },
  {
   "cell_type": "code",
   "execution_count": 0,
   "metadata": {
    "application/vnd.databricks.v1+cell": {
     "cellMetadata": {
      "byteLimit": 2048000,
      "rowLimit": 10000
     },
     "inputWidgets": {},
     "nuid": "2b03f86f-8295-437d-9947-372665baf99c",
     "showTitle": false,
     "title": ""
    }
   },
   "outputs": [],
   "source": [
    "sql=\"\"\"\n",
    "     select mom_person_id,baby_person_id from \n",
    "     (select distinct * from global_temp.mom_baby_step4_mom_oud_update where visit_concept_id = '9202') \n",
    "     \n",
    "     group by mom_person_id,baby_person_id \n",
    "     having count(*) > 1 ;\n",
    "    \"\"\"\n",
    "mom_baby_step4_mom_oud_op2_update = spark.sql(sql)\n",
    "mom_baby_step4_mom_oud_op2_update.name='mom_baby_step4_mom_oud_op2_update'\n",
    "register_parquet_global_view(mom_baby_step4_mom_oud_op2_update)"
   ]
  },
  {
   "cell_type": "code",
   "execution_count": 0,
   "metadata": {
    "ExecuteTime": {
     "end_time": "2023-01-09T20:03:45.193241Z",
     "start_time": "2023-01-09T20:03:21.298518Z"
    },
    "application/vnd.databricks.v1+cell": {
     "cellMetadata": {
      "byteLimit": 2048000,
      "rowLimit": 10000
     },
     "inputWidgets": {},
     "nuid": "9ae62659-2cc8-473a-a9e1-5e8c72c93952",
     "showTitle": false,
     "title": ""
    }
   },
   "outputs": [],
   "source": [
    "df_inspection(\"global_temp.mom_baby_step4_mom_oud_op2_update\",\"all\")"
   ]
  }
 ],
 "metadata": {
  "application/vnd.databricks.v1+notebook": {
   "dashboards": [],
   "language": "python",
   "notebookMetadata": {
    "mostRecentlyExecutedCommandWithImplicitDF": {
     "commandId": 1296922896043876,
     "dataframes": [
      "_sqldf"
     ]
    },
    "pythonIndentUnit": 4
   },
   "notebookName": "11_birthing_parent_opioid_use_disorder",
   "widgets": {}
  },
  "kernelspec": {
   "display_name": "Python 3 (ipykernel)",
   "language": "python",
   "name": "python3"
  },
  "language_info": {
   "codemirror_mode": {
    "name": "ipython",
    "version": 3
   },
   "file_extension": ".py",
   "mimetype": "text/x-python",
   "name": "python",
   "nbconvert_exporter": "python",
   "pygments_lexer": "ipython3",
   "version": "3.9.12"
  }
 },
 "nbformat": 4,
 "nbformat_minor": 0
}
