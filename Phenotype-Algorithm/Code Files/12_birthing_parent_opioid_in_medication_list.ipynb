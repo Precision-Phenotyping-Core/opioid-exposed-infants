{
 "cells": [
  {
   "cell_type": "markdown",
   "metadata": {
    "application/vnd.databricks.v1+cell": {
     "cellMetadata": {},
     "inputWidgets": {},
     "nuid": "d67002fa-27b3-4407-9168-f3c35fdd7781",
     "showTitle": false,
     "title": ""
    }
   },
   "source": [
    "# Project: Performance of phenotype algorithms for the identification of opioid-exposed infants, Andrew D. Wiese et al. Hospital Pediatrics 2024\n",
    "# Title: Identify birthing parents with evidence of opioid drug exposure in medication lists \n",
    "# Summary: \n",
    "## Identify birthing parents with evidence of opioid drug exposure in medication lists from estimated time of conception through 30-days after delivery\n"
   ]
  },
  {
   "cell_type": "markdown",
   "metadata": {
    "application/vnd.databricks.v1+cell": {
     "cellMetadata": {},
     "inputWidgets": {},
     "nuid": "e63fa6b5-6db2-47f2-aad0-c00bf83f8939",
     "showTitle": false,
     "title": ""
    }
   },
   "source": [
    "\n",
    "##### Algorithm steps:\n",
    "\n",
    "```\n",
    "1.Get opioid search terms from database table\n",
    "\n",
    "2.Get all notes for moms from database table\n",
    "\n",
    "3.Filter notes containing opioid search terms\n",
    "\n",
    "4.Further filter notes by date relative to baby birth date\n",
    "\n",
    "5.Iterate through notes and find matched search terms using regex\n",
    "\n",
    "6.Update notes dataframe with matched terms\n",
    "\n",
    "7.Convert dataframe to Spark\n",
    "\n",
    "8.Filter out notes without matched terms \n",
    "\n",
    "9.Filter notes containing 'medication list'\n",
    "\n",
    "10.Output results:\n",
    "    - Count of unique moms\n",
    "    - Count of total notes\n",
    "```\n",
    "\n",
    "##### Data Dictionaries:\n",
    "\n",
    "**mom_drug_search_term_list** - Database table containing list of opioid search terms\n",
    "\n",
    "**note_table** - Database table containing clinical notes\n",
    "\n",
    "**person_table** - Database table containing person IDs and MRNs\n",
    "\n",
    "**mom_baby_step1** - Temporary table containing mom and baby ID pairs \n",
    "\n",
    "**mom_notes** - Temporary table containing all notes for moms\n",
    "\n",
    "**opioid_notes** - Temporary table containing notes with opioid search terms\n",
    "\n",
    "**opioid_df** - Temporary table containing filtered notes by date \n",
    "\n",
    "**search_opioid_terms** - Temporary table containing notes with matched terms\n",
    "\n",
    "**search_opioid_terms_cleaned** - Temporary table containing only notes with matched terms\n",
    "\n",
    "**search_opioid_terms_cleaned_medicationlist** - Final table containing notes with 'medication list'\n",
    "\n",
    "##### Usage Notes:\n",
    "```\n",
    "- This pipeline looks for mentions of opioid medications in clinical notes around time of delivery to identify moms exposed to opioids\n",
    "\n",
    "- It searches notes within 30 days before delivery and filters out notes within 2 days of delivery to avoid false matches on medications given during delivery\n",
    "\n",
    "- Matching of search terms uses regex to handle partial matches and case-insensitive searching\n",
    "\n",
    "- Results are deduplicated by mom and note IDs to avoid double counting \n",
    "\n",
    "- Final table filters for notes containing 'medication list' to increase likelihood of true opioid exposure\n",
    "\n",
    "```"
   ]
  },
  {
   "cell_type": "code",
   "execution_count": 0,
   "metadata": {
    "ExecuteTime": {
     "end_time": "2023-01-09T19:10:42.200644Z",
     "start_time": "2023-01-09T19:10:42.187962Z"
    },
    "application/vnd.databricks.v1+cell": {
     "cellMetadata": {
      "byteLimit": 2048000,
      "rowLimit": 10000
     },
     "inputWidgets": {},
     "nuid": "88f12b12-f0a9-466c-bb93-777421e50b27",
     "showTitle": false,
     "title": ""
    }
   },
   "outputs": [],
   "source": [
    "%run \"./project_modules\""
   ]
  },
  {
   "cell_type": "code",
   "execution_count": 0,
   "metadata": {
    "application/vnd.databricks.v1+cell": {
     "cellMetadata": {},
     "inputWidgets": {},
     "nuid": "bef75b92-8af9-4e69-b921-ad7d614eaaf2",
     "showTitle": false,
     "title": ""
    }
   },
   "outputs": [],
   "source": [
    "sql=f\"select generic from {mom_drug_search_term_list};\"\n",
    "search_terms= spark.sql(sql)\n",
    "\n",
    "search_terms_str=search_terms.agg(F.concat_ws(\" or \",F.collect_list(F.concat(F.lit('note_text like \"%'),F.col('generic'),F.lit('%\"'))))).first()[0]\n",
    "\n",
    "all_generics = search_terms.select('generic').rdd.flatMap(lambda x: x).collect()"
   ]
  },
  {
   "cell_type": "markdown",
   "metadata": {
    "application/vnd.databricks.v1+cell": {
     "cellMetadata": {},
     "inputWidgets": {},
     "nuid": "0c2cbf89-12da-4b1e-8a4e-5fb8ae996379",
     "showTitle": false,
     "title": ""
    }
   },
   "source": [
    "##### Find matched notes functions"
   ]
  },
  {
   "cell_type": "code",
   "execution_count": 0,
   "metadata": {
    "application/vnd.databricks.v1+cell": {
     "cellMetadata": {},
     "inputWidgets": {},
     "nuid": "8d6563d6-40c8-46ef-ab3c-5a932ca87f15",
     "showTitle": false,
     "title": ""
    }
   },
   "outputs": [],
   "source": [
    "def is_in(full_str, sub_str):\n",
    "    if re.findall(sub_str, full_str,re.I):\n",
    "        return True\n",
    "    else:\n",
    "        return False"
   ]
  },
  {
   "cell_type": "code",
   "execution_count": 0,
   "metadata": {
    "application/vnd.databricks.v1+cell": {
     "cellMetadata": {},
     "inputWidgets": {},
     "nuid": "345a0977-25bc-4725-8eff-65a15474ad1e",
     "showTitle": false,
     "title": ""
    }
   },
   "outputs": [],
   "source": [
    "def update_notes(note_searched_output_df):\n",
    "    \n",
    "    spark = SparkSession.builder.appName(\"pandas to spark\").getOrCreate()\n",
    "    pat = '[a-zA-Z]+'\n",
    "    count = 0;\n",
    "    unique_words = []\n",
    "    for index, row in note_searched_output_df.iterrows():\n",
    "        found_strs = None\n",
    "        note_text = str(row['note_text'])\n",
    "        count = count + 1\n",
    "        word_list = []\n",
    "        if count%10000 == 0:\n",
    "            print(\"Current record count:\",count)\n",
    "     \n",
    "        for sen in all_generics:\n",
    "            sen_words = re.findall(pat, sen)\n",
    "            if len(sen_words) > 1:\n",
    "                if is_in(note_text, sen):\n",
    "                    found_strs = '%s ||||| %s' % (found_strs, sen)\n",
    "            else:\n",
    "                all_words = re.findall(pat, note_text)\n",
    "                for word in all_words:\n",
    "                    if word.lower() == sen.lower():\n",
    "                        found_strs = '%s ||||| %s' % (found_strs, sen)\n",
    "\n",
    "\n",
    "        unique_words.append(found_strs)\n",
    "        \n",
    "    note_searched_output_df[\"matched_words\"] = unique_words\n",
    "    return spark.createDataFrame(note_searched_output_df)"
   ]
  },
  {
   "cell_type": "markdown",
   "metadata": {
    "application/vnd.databricks.v1+cell": {
     "cellMetadata": {},
     "inputWidgets": {},
     "nuid": "f89959a9-a5bf-4ac7-a914-c3e80149473a",
     "showTitle": false,
     "title": ""
    }
   },
   "source": [
    "##### MOM exposed to OPIOID DRUG in Note\n"
   ]
  },
  {
   "cell_type": "code",
   "execution_count": 0,
   "metadata": {
    "application/vnd.databricks.v1+cell": {
     "cellMetadata": {},
     "inputWidgets": {},
     "nuid": "243bae33-34cf-4588-b089-0bed2203a3d4",
     "showTitle": false,
     "title": ""
    }
   },
   "outputs": [],
   "source": [
    "\n",
    "sql=f\"select person_id,note_date,note_id,lower(note_text) as note_text from {note_table} where person_id in (select fact_id_1 from global_temp.mom_baby_step1)\"\n",
    "\n",
    "mom_notes= spark.sql(sql)\n",
    "mom_notes.name=\"mom_notes\"\n",
    "register_parquet_global_view(mom_notes)\n",
    "\n",
    "sql=f\"select * from global_temp.mom_notes where {search_terms_str};\"\n",
    "notes_df= spark.sql(sql)\n",
    "notes_df.name=\"opioid_notes\"\n",
    "register_parquet_global_view(notes_df)"
   ]
  },
  {
   "cell_type": "code",
   "execution_count": 0,
   "metadata": {
    "ExecuteTime": {
     "end_time": "2023-01-09T19:10:57.459611Z",
     "start_time": "2023-01-09T19:10:56.692398Z"
    },
    "application/vnd.databricks.v1+cell": {
     "cellMetadata": {
      "implicitDf": true
     },
     "inputWidgets": {},
     "nuid": "6a240717-9555-4289-9f42-0fde649dbca5",
     "showTitle": false,
     "title": ""
    }
   },
   "outputs": [],
   "source": [
    "sql=\"\"\"\n",
    "     select a.*, b.fact_id_1,b.fact_id_2,b.birth_datetime as baby_birth_datetime, \n",
    "     date_sub(birth_datetime, 30) as start_date, date_sub(birth_datetime, 2) as end_date from \n",
    "     \n",
    "     (select * from global_temp.opioid_notes) a \n",
    "     inner join \n",
    "     global_temp.mom_baby_step1 b\n",
    "     on a.person_id = b.fact_id_1\n",
    "     where note_date >= date_sub(birth_datetime, 30)  and note_date <  date_sub(birth_datetime, 2);\n",
    "    \"\"\"\n",
    "\n",
    "opioid_df=spark.sql(sql)\n",
    "opioid_df.createOrReplaceTempView(\"opioid_df\")"
   ]
  },
  {
   "cell_type": "code",
   "execution_count": 0,
   "metadata": {
    "application/vnd.databricks.v1+cell": {
     "cellMetadata": {},
     "inputWidgets": {},
     "nuid": "69b15ea1-d86b-471a-abea-b306fcf12fa7",
     "showTitle": false,
     "title": ""
    }
   },
   "outputs": [],
   "source": [
    "pandasDF =opioid_df.toPandas()\n",
    "search_opioid_terms=update_notes(pandasDF)\n",
    "search_opioid_terms.name=\"search_opioid_terms\"\n",
    "register_parquet_global_view(search_opioid_terms)"
   ]
  },
  {
   "cell_type": "markdown",
   "metadata": {
    "ExecuteTime": {
     "end_time": "2023-01-09T19:13:44.631902Z",
     "start_time": "2023-01-09T19:13:44.629262Z"
    },
    "application/vnd.databricks.v1+cell": {
     "cellMetadata": {},
     "inputWidgets": {},
     "nuid": "79e24129-e057-4a87-bda1-e791f4714b8f",
     "showTitle": false,
     "title": ""
    }
   },
   "source": [
    "##### Search_opioid_terms_cleaned"
   ]
  },
  {
   "cell_type": "code",
   "execution_count": 0,
   "metadata": {
    "application/vnd.databricks.v1+cell": {
     "cellMetadata": {},
     "inputWidgets": {},
     "nuid": "3dcc62e4-922a-40f2-ab3a-d09d456f22fc",
     "showTitle": false,
     "title": ""
    }
   },
   "outputs": [],
   "source": [
    "sql=\"\"\"\n",
    "       select a.* from global_temp.search_opioid_terms a\n",
    "       left join \n",
    "       (select note_id,person_id from global_temp.search_opioid_terms where matched_words !='') b\n",
    "       on a.person_id = b.person_id and a.note_id = b.note_id\n",
    "       where b.person_id is not null and b.note_id is not null;\n",
    "    \"\"\"\n",
    "\n",
    "search_opioid_terms_cleaned= spark.sql(sql)\n",
    "search_opioid_terms_cleaned.createOrReplaceTempView(\"search_opioid_terms_cleaned\")"
   ]
  },
  {
   "cell_type": "markdown",
   "metadata": {
    "application/vnd.databricks.v1+cell": {
     "cellMetadata": {},
     "inputWidgets": {},
     "nuid": "6f768767-8769-4356-af2c-0237f87682ba",
     "showTitle": false,
     "title": ""
    }
   },
   "source": [
    "##### Just need the note with terms: 'medication list'"
   ]
  },
  {
   "cell_type": "code",
   "execution_count": 0,
   "metadata": {
    "application/vnd.databricks.v1+cell": {
     "cellMetadata": {
      "byteLimit": 2048000,
      "rowLimit": 10000
     },
     "inputWidgets": {},
     "nuid": "a58422d2-c0b7-43c6-a00e-c663bf562d2b",
     "showTitle": false,
     "title": ""
    }
   },
   "outputs": [],
   "source": [
    "sql=f\"\"\"\n",
    "      select a.*,v.person_source_value as mrn from  \n",
    "      (select * from search_opioid_terms_cleaned where lower(note_text) like '%medication list%') a \n",
    "      inner join \n",
    "      {person_table} v\n",
    "      on a.person_id = v.person_id;\n",
    "    \"\"\"\n",
    "search_opioid_terms_cleaned_medicationlist= spark.sql(sql)\n",
    "search_opioid_terms_cleaned_medicationlist.name = \"search_opioid_terms_cleaned_medicationlist\"\n",
    "register_parquet_global_view(search_opioid_terms_cleaned_medicationlist)"
   ]
  },
  {
   "cell_type": "code",
   "execution_count": 0,
   "metadata": {
    "ExecuteTime": {
     "end_time": "2023-01-09T19:59:29.515069Z",
     "start_time": "2023-01-09T19:59:05.952821Z"
    },
    "application/vnd.databricks.v1+cell": {
     "cellMetadata": {},
     "inputWidgets": {},
     "nuid": "cb921d8c-6cd5-42f9-bc55-032ca5eed2e0",
     "showTitle": false,
     "title": ""
    }
   },
   "outputs": [],
   "source": [
    "sql=\"\"\"\n",
    "     select count(distinct person_id) as unique_mom, count(*) as total from global_temp.search_opioid_terms_cleaned_medicationlist;\n",
    "    \"\"\"\n",
    "inspect_df= spark.sql(sql)\n",
    "inspect_df.display()"
   ]
  }
 ],
 "metadata": {
  "application/vnd.databricks.v1+notebook": {
   "dashboards": [],
   "language": "python",
   "notebookMetadata": {
    "mostRecentlyExecutedCommandWithImplicitDF": {
     "commandId": 2636192804210032,
     "dataframes": [
      "_sqldf"
     ]
    },
    "pythonIndentUnit": 4
   },
   "notebookName": "12_birthing_parent_opioid_in_medication_list",
   "widgets": {}
  },
  "kernelspec": {
   "display_name": "Python 3 (ipykernel)",
   "language": "python",
   "name": "python3"
  },
  "language_info": {
   "codemirror_mode": {
    "name": "ipython",
    "version": 3
   },
   "file_extension": ".py",
   "mimetype": "text/x-python",
   "name": "python",
   "nbconvert_exporter": "python",
   "pygments_lexer": "ipython3",
   "version": "3.9.12"
  }
 },
 "nbformat": 4,
 "nbformat_minor": 0
}
