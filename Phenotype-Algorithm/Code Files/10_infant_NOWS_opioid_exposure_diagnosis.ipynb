{
 "cells": [
  {
   "cell_type": "markdown",
   "metadata": {
    "application/vnd.databricks.v1+cell": {
     "cellMetadata": {},
     "inputWidgets": {},
     "nuid": "213d1945-46f2-46ed-a90f-93d347eb22f2",
     "showTitle": false,
     "title": ""
    }
   },
   "source": [
    "# Project: Performance of phenotype algorithms for the identification of opioid-exposed infants, Andrew D. Wiese et al. Hospital Pediatrics 2024\n",
    "# Title: Identify infants with NOWS or opioid-exposure diagnosis\n",
    "# Summary: \n",
    "## Identify infants with NOWS or opioid-exposure diagnosis based on ICD codes\n"
   ]
  },
  {
   "cell_type": "markdown",
   "metadata": {
    "application/vnd.databricks.v1+cell": {
     "cellMetadata": {},
     "inputWidgets": {},
     "nuid": "f0bc41ea-8e57-400d-a416-dd0400d640cb",
     "showTitle": false,
     "title": ""
    }
   },
   "source": [
    "##### Pseudocode:\n",
    "\n",
    "```\n",
    "1. Define code lists for NOWS conditions:\n",
    "    - ICD9 779.5, ICD10 P96.1 for NAS\n",
    "    - ICD9 760.72, ICD10 P04.14 for Opioid-Exposure\n",
    "\n",
    "2. Extract baby records from procedure_occurrence, condition_occurrence, and observation tables where fact_id_2 matches NOWS code list\n",
    "\n",
    "3. Validate results by inspecting output dataframe\n",
    "```\n",
    "\n",
    "##### Data Dictionaries:\n",
    "\n",
    "**nows_code_list** - List of ICD9 and ICD10 codes indicating NOWS\n",
    "\n",
    "**cond_df** - DataFrame of baby condition records matching NOWS codes \n",
    "\n",
    "**proc_df** - DataFrame of baby procedure records matching NOWS codes\n",
    "\n",
    "**obs_df** - DataFrame of baby observation records matching NOWS codes \n",
    "\n",
    "**mom_baby_step4_nowsbaby** - Combined DataFrame of all baby records with NOWS codes\n",
    "\n",
    "##### Usage Notes:\n",
    "\n",
    "- Make sure nows_code_list is comprehensive and includes all relevant NOWS codes\n",
    "- Validate code extraction by inspecting output dataframe contents and size\n",
    "- Register final dataframe as global temp view for easy querying"
   ]
  },
  {
   "cell_type": "code",
   "execution_count": 0,
   "metadata": {
    "ExecuteTime": {
     "end_time": "2023-01-09T18:27:16.407167Z",
     "start_time": "2023-01-09T18:27:16.395633Z"
    },
    "application/vnd.databricks.v1+cell": {
     "cellMetadata": {},
     "inputWidgets": {},
     "nuid": "00269daa-755b-47f8-8af2-a1e5ba72d267",
     "showTitle": false,
     "title": ""
    }
   },
   "outputs": [],
   "source": [
    "%run \"./project_modules\""
   ]
  },
  {
   "cell_type": "markdown",
   "metadata": {
    "application/vnd.databricks.v1+cell": {
     "cellMetadata": {},
     "inputWidgets": {},
     "nuid": "fa510d37-639a-4480-b2bf-885639c25a18",
     "showTitle": false,
     "title": ""
    }
   },
   "source": [
    "#####  NOWS codes for baby\n",
    "\n",
    "##### NAS\t\t\n",
    "- ICD9\t779.5\tdrug withdrawal syndrome in newborn NOWS - withdrawal -antenatal and neonatl exposure \n",
    "- ICD10\tP96.1\t\"neonatal withdrawal symptoms from maternal use of drugs of addiction) NOWS - does not include iatrogenic withdrawal\"\n",
    "\t\t\n",
    "##### Opioid-Exposure\t\t\n",
    "- ICD9\t760.72\tNarcotics affecting fetus or newborn via placenta or breast milk \n",
    "- ICD10\tP04.14\tNewborn affected by maternal use of opiates\n",
    "\n",
    "##### tables: procedure_occurrence / condition_occurrence / observation"
   ]
  },
  {
   "cell_type": "code",
   "execution_count": 0,
   "metadata": {
    "application/vnd.databricks.v1+cell": {
     "cellMetadata": {},
     "inputWidgets": {},
     "nuid": "5f1d91ef-01b7-4409-807d-b1a5e3e55d5a",
     "showTitle": false,
     "title": ""
    }
   },
   "outputs": [],
   "source": [
    "cond_df=mon_baby_records_code_list('condition','fact_id_2',nows_code_list)\n",
    "proc_df=mon_baby_records_code_list('procedure','fact_id_2',nows_code_list)\n",
    "obs_df=mon_baby_records_code_list('observation','fact_id_2',nows_code_list)\n",
    "\n",
    "mom_baby_step4_nowsbaby = union_dataframes([cond_df,proc_df,obs_df])\n",
    "mom_baby_step4_nowsbaby.name='mom_baby_step4_nowsbaby'\n",
    "register_parquet_global_view(mom_baby_step4_nowsbaby)"
   ]
  },
  {
   "cell_type": "markdown",
   "metadata": {
    "application/vnd.databricks.v1+cell": {
     "cellMetadata": {},
     "inputWidgets": {},
     "nuid": "7d2c2ba5-7fb9-4e67-b398-d7328c0bac3f",
     "showTitle": false,
     "title": ""
    }
   },
   "source": [
    "##### Validation"
   ]
  },
  {
   "cell_type": "code",
   "execution_count": 0,
   "metadata": {
    "ExecuteTime": {
     "end_time": "2023-01-09T18:35:50.003003Z",
     "start_time": "2023-01-09T18:35:47.816564Z"
    },
    "application/vnd.databricks.v1+cell": {
     "cellMetadata": {},
     "inputWidgets": {},
     "nuid": "ee5774ae-f777-4747-9326-29befb7a7164",
     "showTitle": false,
     "title": ""
    }
   },
   "outputs": [],
   "source": [
    "df_inspection(\"global_temp.mom_baby_step4_nowsbaby\",\"all\")"
   ]
  }
 ],
 "metadata": {
  "application/vnd.databricks.v1+notebook": {
   "dashboards": [],
   "language": "python",
   "notebookMetadata": {
    "pythonIndentUnit": 4
   },
   "notebookName": "10_infant_NOWS_opioid_exposure_diagnosis",
   "widgets": {}
  },
  "kernelspec": {
   "display_name": "Python 3 (ipykernel)",
   "language": "python",
   "name": "python3"
  },
  "language_info": {
   "codemirror_mode": {
    "name": "ipython",
    "version": 3
   },
   "file_extension": ".py",
   "mimetype": "text/x-python",
   "name": "python",
   "nbconvert_exporter": "python",
   "pygments_lexer": "ipython3",
   "version": "3.9.12"
  }
 },
 "nbformat": 4,
 "nbformat_minor": 0
}
