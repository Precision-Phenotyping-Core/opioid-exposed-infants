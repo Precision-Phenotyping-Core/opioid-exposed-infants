{
 "cells": [
  {
   "cell_type": "markdown",
   "metadata": {
    "application/vnd.databricks.v1+cell": {
     "cellMetadata": {},
     "inputWidgets": {},
     "nuid": "2b01f66a-3d58-4805-9198-465cb1291ea2",
     "showTitle": false,
     "title": ""
    }
   },
   "source": [
    "# Project: Performance of phenotype algorithms for the identification of opioid-exposed infants, Andrew D. Wiese et al. Hospital Pediatrics 2024\n",
    "# Title: Create final output table from phenotype algorithm \n",
    "# Summary: \n",
    "## Create final output table from phenotype algorithm\n",
    "\n"
   ]
  },
  {
   "cell_type": "markdown",
   "metadata": {
    "application/vnd.databricks.v1+cell": {
     "cellMetadata": {},
     "inputWidgets": {},
     "nuid": "206fa8b2-740d-4e26-be68-3647d8bff7e1",
     "showTitle": false,
     "title": ""
    }
   },
   "source": [
    "\n",
    "##### Algorithm steps:\n",
    "```\n",
    "1. FUNCTION get_2010_mombabypair_df(source_df_name):\n",
    "  GET mom-baby pairs from source dataframe where year >= 2010\n",
    "  JOIN with person table to get extra columns\n",
    "  RETURN dataframe\n",
    "\n",
    "2. CREATE dataframe by calling get_2010_mombabypair_df on live birth code source dataframe\n",
    "\n",
    "3. CREATE dataframe by calling get_2010_mombabypair_df on critical illness source dataframe \n",
    "\n",
    "4. CREATE dataframe by calling get_2010_mombabypair_df on respiratory procedure code source dataframe\n",
    "\n",
    "5. CREATE dataframe by calling get_2010_mombabypair_df on fetal anomalies source dataframe\n",
    "\n",
    "6. DEFINE SQL query to join base dataframe with all other dataframes\n",
    "    BASE dataframe is 2010 mom-baby pairs\n",
    "    LEFT JOIN with each indicator dataframe\n",
    "    CASE statements to generate indicator columns  \n",
    "\n",
    "7. RUN SQL query to create final dataframe\n",
    "\n",
    "8. SAVE final dataframe to table\n",
    "```\n",
    "\n",
    "##### Data Dictionaries\n",
    "\n",
    "**mom_baby_step1_2010_mombabypair:** Contains mom-baby pairs after 2010 filtered from step 1 source dataframe \n",
    "\n",
    "**mom_baby_step1_birth_code_2010_mombabypair:** Contains mom-baby pairs after 2010 filtered from live birth code dataframe\n",
    "\n",
    "**mom_baby_step3_critical4cpt_2010_mombabypair:** Contains mom-baby pairs after 2010 filtered from critical illness dataframe \n",
    "\n",
    "**mom_baby_step3_respiratory_2010_mombabypair:** Contains mom-baby pairs after 2010 filtered from respiratory procedure code dataframe\n",
    "\n",
    "**mom_baby_step3_fetal_anomalies_2010_mombabypair:** Contains mom-baby pairs after 2010 filtered from fetal anomalies dataframe\n",
    "\n",
    "**phenotype_output.mprint_cohort:** Final output table containing all mom-baby pairs after 2010 with indicator columns joined from different source dataframes\n",
    "\n",
    "##### Usage Notes\n",
    "```\n",
    "- The `get_2010_mombabypair_df` function can be reused to filter each source dataframe to only records after 2010\n",
    "- The final dataframe joins all of the filtered dataframes and adds indicator columns based on whether a mom-baby pair exists in each source dataframe\n",
    "- The output table contains the full set of mom-baby pairs after 2010 with all associated indicators\n",
    "```"
   ]
  },
  {
   "cell_type": "code",
   "execution_count": 0,
   "metadata": {
    "ExecuteTime": {
     "end_time": "2023-01-09T19:10:42.200644Z",
     "start_time": "2023-01-09T19:10:42.187962Z"
    },
    "application/vnd.databricks.v1+cell": {
     "cellMetadata": {
      "byteLimit": 2048000,
      "rowLimit": 10000
     },
     "inputWidgets": {},
     "nuid": "88f12b12-f0a9-466c-bb93-777421e50b27",
     "showTitle": false,
     "title": ""
    }
   },
   "outputs": [],
   "source": [
    "%run \"./project_modules\""
   ]
  },
  {
   "cell_type": "markdown",
   "metadata": {
    "application/vnd.databricks.v1+cell": {
     "cellMetadata": {
      "byteLimit": 2048000,
      "rowLimit": 10000
     },
     "inputWidgets": {},
     "nuid": "3816e2f9-e4b4-4e7b-bc1f-c9614a49f356",
     "showTitle": false,
     "title": ""
    }
   },
   "source": [
    "##### Mom baby pairs records after 2010 (optional)"
   ]
  },
  {
   "cell_type": "code",
   "execution_count": 0,
   "metadata": {
    "application/vnd.databricks.v1+cell": {
     "cellMetadata": {
      "byteLimit": 2048000,
      "rowLimit": 10000
     },
     "inputWidgets": {},
     "nuid": "d571300a-b0bf-4f6c-acb4-e52c9959df0c",
     "showTitle": false,
     "title": ""
    }
   },
   "outputs": [],
   "source": [
    "def get_2010_mombabypair_df(source_df_name):\n",
    "    \n",
    "   sql=f\"\"\"\n",
    "         select mom_person_id,b.person_source_value as mom_person_source_value,\n",
    "         year(a.birth_datetime)-year(b.birth_datetime) as age_at_delivery, b.birth_datetime as mom_birth_datetime, \n",
    "         b.gender_source_value as mom_gender,b.race_source_value as mom_race,\n",
    "         baby_person_id,baby_person_source_value, a.birth_datetime as baby_birth_datetime, \n",
    "         c.gender_source_value as baby_gender,c.race_source_value as baby_race from \n",
    "\n",
    "        (select distinct mom_person_id,baby_person_id,baby_person_source_value,birth_datetime from {source_df_name} where \n",
    "        year(birth_datetime) >=2010) a\n",
    "        inner join {person_table} b on a.mom_person_id = b.person_id\n",
    "        inner join {person_table} c on a.baby_person_id = c.person_id;\n",
    "      \"\"\"\n",
    "\n",
    "   df= spark.sql(sql)\n",
    "   return df"
   ]
  },
  {
   "cell_type": "markdown",
   "metadata": {
    "ExecuteTime": {
     "end_time": "2023-01-09T19:13:44.631902Z",
     "start_time": "2023-01-09T19:13:44.629262Z"
    },
    "application/vnd.databricks.v1+cell": {
     "cellMetadata": {
      "byteLimit": 2048000,
      "rowLimit": 10000
     },
     "inputWidgets": {},
     "nuid": "79e24129-e057-4a87-bda1-e791f4714b8f",
     "showTitle": false,
     "title": ""
    }
   },
   "source": [
    "##### live_birth_code mom baby pair"
   ]
  },
  {
   "cell_type": "code",
   "execution_count": 0,
   "metadata": {
    "application/vnd.databricks.v1+cell": {
     "cellMetadata": {
      "byteLimit": 2048000,
      "rowLimit": 10000
     },
     "inputWidgets": {},
     "nuid": "3dcc62e4-922a-40f2-ab3a-d09d456f22fc",
     "showTitle": false,
     "title": ""
    }
   },
   "outputs": [],
   "source": [
    "mom_baby_step1_birth_code_2010_mombabypair=get_2010_mombabypair_df(\"global_temp.mom_baby_step1_birth_code\")\n",
    "mom_baby_step1_birth_code_2010_mombabypair.createOrReplaceTempView(\"mom_baby_step1_birth_code_2010_mombabypair\") "
   ]
  },
  {
   "cell_type": "code",
   "execution_count": 0,
   "metadata": {
    "ExecuteTime": {
     "end_time": "2023-01-09T19:21:48.801961Z",
     "start_time": "2023-01-09T19:21:46.918224Z"
    },
    "application/vnd.databricks.v1+cell": {
     "cellMetadata": {
      "byteLimit": 2048000,
      "rowLimit": 10000
     },
     "inputWidgets": {},
     "nuid": "0266d669-a148-4801-8b84-99dd2fa7171c",
     "showTitle": false,
     "title": ""
    }
   },
   "outputs": [],
   "source": [
    "df_inspection(\"mom_baby_step1_birth_code_2010_mombabypair\",\"all\")"
   ]
  },
  {
   "cell_type": "markdown",
   "metadata": {
    "application/vnd.databricks.v1+cell": {
     "cellMetadata": {
      "byteLimit": 2048000,
      "rowLimit": 10000
     },
     "inputWidgets": {},
     "nuid": "761bdcb5-4faa-48eb-89ac-04d25c6892a4",
     "showTitle": false,
     "title": ""
    }
   },
   "source": [
    "##### Critical illness 4CPT mom baby pair"
   ]
  },
  {
   "cell_type": "code",
   "execution_count": 0,
   "metadata": {
    "application/vnd.databricks.v1+cell": {
     "cellMetadata": {
      "byteLimit": 2048000,
      "rowLimit": 10000
     },
     "inputWidgets": {},
     "nuid": "4b10b5ee-3580-4774-b363-dc084ac268a7",
     "showTitle": false,
     "title": ""
    }
   },
   "outputs": [],
   "source": [
    "mom_baby_step3_critical4cpt_2010_mombabypair=get_2010_mombabypair_df(\"global_temp.mom_baby_step3_critical4cpt\")\n",
    "mom_baby_step3_critical4cpt_2010_mombabypair.createOrReplaceTempView(\"mom_baby_step3_critical4cpt_2010_mombabypair\")"
   ]
  },
  {
   "cell_type": "code",
   "execution_count": 0,
   "metadata": {
    "application/vnd.databricks.v1+cell": {
     "cellMetadata": {
      "byteLimit": 2048000,
      "rowLimit": 10000
     },
     "inputWidgets": {},
     "nuid": "c01d5057-2378-4648-9f0e-eb2b038b5683",
     "showTitle": false,
     "title": ""
    }
   },
   "outputs": [],
   "source": [
    "df_inspection(\"mom_baby_step3_critical4cpt_2010_mombabypair\",\"all\")"
   ]
  },
  {
   "cell_type": "markdown",
   "metadata": {
    "application/vnd.databricks.v1+cell": {
     "cellMetadata": {
      "byteLimit": 2048000,
      "rowLimit": 10000
     },
     "inputWidgets": {},
     "nuid": "5cf753d3-8fa6-42fb-b117-fdd9bfc1870d",
     "showTitle": false,
     "title": ""
    }
   },
   "source": [
    "##### Respiratory procedure code  mom baby pair\n"
   ]
  },
  {
   "cell_type": "code",
   "execution_count": 0,
   "metadata": {
    "application/vnd.databricks.v1+cell": {
     "cellMetadata": {
      "byteLimit": 2048000,
      "rowLimit": 10000
     },
     "inputWidgets": {},
     "nuid": "61728d07-fb8e-4705-8de6-eed344ce5fc7",
     "showTitle": false,
     "title": ""
    }
   },
   "outputs": [],
   "source": [
    "mom_baby_step3_respiratory_2010_mombabypair=get_2010_mombabypair_df(\"global_temp.mom_baby_step3_respiratory\")\n",
    "mom_baby_step3_respiratory_2010_mombabypair.createOrReplaceTempView(\"mom_baby_step3_respiratory_2010_mombabypair\")"
   ]
  },
  {
   "cell_type": "code",
   "execution_count": 0,
   "metadata": {
    "application/vnd.databricks.v1+cell": {
     "cellMetadata": {
      "byteLimit": 2048000,
      "rowLimit": 10000
     },
     "inputWidgets": {},
     "nuid": "caa03329-a2a4-4308-9f92-3f30fd7dd4d7",
     "showTitle": false,
     "title": ""
    }
   },
   "outputs": [],
   "source": [
    "df_inspection(\"mom_baby_step3_respiratory_2010_mombabypair\",\"all\")"
   ]
  },
  {
   "cell_type": "markdown",
   "metadata": {
    "application/vnd.databricks.v1+cell": {
     "cellMetadata": {
      "byteLimit": 2048000,
      "rowLimit": 10000
     },
     "inputWidgets": {},
     "nuid": "9bb078d8-c411-4bc8-8e59-a4994f1704bb",
     "showTitle": false,
     "title": ""
    }
   },
   "source": [
    "##### Fetal anomalies at birth mom baby pair"
   ]
  },
  {
   "cell_type": "code",
   "execution_count": 0,
   "metadata": {
    "application/vnd.databricks.v1+cell": {
     "cellMetadata": {
      "byteLimit": 2048000,
      "rowLimit": 10000
     },
     "inputWidgets": {},
     "nuid": "8c8ecf95-b335-4f91-9957-e5ac3a38aea7",
     "showTitle": false,
     "title": ""
    }
   },
   "outputs": [],
   "source": [
    "mom_baby_step3_fetal_anomalies_2010_mombabypair=get_2010_mombabypair_df(\"global_temp.mom_baby_step3_fetal_anomalies\")\n",
    "mom_baby_step3_fetal_anomalies_2010_mombabypair.createOrReplaceTempView(\"mom_baby_step3_fetal_anomalies_2010_mombabypair\")"
   ]
  },
  {
   "cell_type": "code",
   "execution_count": 0,
   "metadata": {
    "application/vnd.databricks.v1+cell": {
     "cellMetadata": {
      "byteLimit": 2048000,
      "rowLimit": 10000
     },
     "inputWidgets": {},
     "nuid": "30b181d4-5d6e-4982-9a29-7a95b9e9c539",
     "showTitle": false,
     "title": ""
    }
   },
   "outputs": [],
   "source": [
    "df_inspection(\"mom_baby_step3_fetal_anomalies_2010_mombabypair\",\"all\")"
   ]
  },
  {
   "cell_type": "markdown",
   "metadata": {
    "application/vnd.databricks.v1+cell": {
     "cellMetadata": {
      "byteLimit": 2048000,
      "rowLimit": 10000
     },
     "inputWidgets": {},
     "nuid": "b5bed316-3e14-4abc-853c-cdd2808d5bf5",
     "showTitle": false,
     "title": ""
    }
   },
   "source": [
    "##### Combine all stages' output\n"
   ]
  },
  {
   "cell_type": "code",
   "execution_count": 0,
   "metadata": {
    "application/vnd.databricks.v1+cell": {
     "cellMetadata": {
      "byteLimit": 2048000,
      "rowLimit": 10000
     },
     "inputWidgets": {},
     "nuid": "4b6cd418-7a36-4586-bb26-7cb20cf324a9",
     "showTitle": false,
     "title": ""
    }
   },
   "outputs": [],
   "source": [
    "sql=\"\"\"\n",
    "select\n",
    "  a.*,\n",
    "  --select a.*,g.value_as_string as gestational_age,\n",
    "  case\n",
    "    when b.baby_person_id is not null then 1\n",
    "    else 0\n",
    "  end as live_birth_code,\n",
    "  case\n",
    "    when d.baby_person_id is not null then 1\n",
    "    else 0\n",
    "  end as gestational_age_w33_or_uncertain,\n",
    "  case\n",
    "    when e.baby_person_id is not null then 1\n",
    "    else 0\n",
    "  end as critical_illness_4cpt,\n",
    "  case\n",
    "    when f.baby_person_id is not null then 1\n",
    "    else 0\n",
    "  end as respiratory_procedure_code,\n",
    "  case\n",
    "    when g.baby_person_id is not null then 1\n",
    "    else 0\n",
    "  end as fetal_anomalies_code,\n",
    "  case\n",
    "    when i.baby_person_id is not null then 1\n",
    "    else 0\n",
    "  end as gestational_age_uncertain,\n",
    "  case\n",
    "    when j.baby_person_id is not null then 1\n",
    "    else 0\n",
    "  end as nows_baby_code,\n",
    "  case\n",
    "    when k.person_id is not null then 1\n",
    "    else 0\n",
    "  end as infant_tox_lab,\n",
    "  case\n",
    "    when l.baby_person_id is not null then 1\n",
    "    else 0\n",
    "  end as mom_oud,\n",
    "  case\n",
    "    when m.baby_person_id is not null then 1\n",
    "    else 0\n",
    "  end as mom_oud_inpatient,\n",
    "  case\n",
    "    when n.baby_person_id is not null then 1\n",
    "    else 0\n",
    "  end as mom_oud_outpatient,\n",
    "  case\n",
    "    when o.baby_person_id is not null then 1\n",
    "    else 0\n",
    "  end as mom_drug,\n",
    "  case\n",
    "    when p.fact_id_2 is not null then 1\n",
    "    else 0\n",
    "  end as mom_drug_in_note,\n",
    "  case\n",
    "    when q.baby_person_id is not null then 1\n",
    "    else 0\n",
    "  end as mom_opioid_tox,\n",
    "  case\n",
    "    when r.baby_person_id is not null then 1\n",
    "    else 0\n",
    "  end as baby_1st_visit_problem\n",
    "from\n",
    "  global_temp.mom_baby_step1_2010_mombabypair a\n",
    "  left join mom_baby_step1_birth_code_2010_mombabypair b on a.mom_person_id = b.mom_person_id\n",
    "  and a.baby_person_id = b.baby_person_id\n",
    "  left join global_temp.ega_w33_or_uncertain_gestation_date d\n",
    "  on a.mom_person_id = d.mom_person_id\n",
    "  and a.baby_person_id = d.baby_person_id\n",
    "  left join mom_baby_step3_critical4cpt_2010_mombabypair e on a.mom_person_id = e.mom_person_id\n",
    "  and a.baby_person_id = e.baby_person_id\n",
    "  left join mom_baby_step3_respiratory_2010_mombabypair f on a.mom_person_id = f.mom_person_id\n",
    "  and a.baby_person_id = f.baby_person_id\n",
    "  left join mom_baby_step3_fetal_anomalies_2010_mombabypair g on a.mom_person_id = g.mom_person_id\n",
    "  and a.baby_person_id = g.baby_person_id\n",
    "  left join (\n",
    "    select\n",
    "      *\n",
    "    from\n",
    "      global_temp.ega_w33_or_uncertain_gestation_date\n",
    "    where\n",
    "      weeks = 0\n",
    "  ) i on a.mom_person_id = i.mom_person_id\n",
    "  and a.baby_person_id = i.baby_person_id\n",
    "  left join (\n",
    "    select\n",
    "      distinct baby_person_id\n",
    "    from\n",
    "      global_temp.mom_baby_step4_nowsbaby\n",
    "  ) j on a.baby_person_id = j.baby_person_id\n",
    "  left join (\n",
    "    select\n",
    "      distinct person_id\n",
    "    from\n",
    "      global_temp.infant_tox_lab\n",
    "  ) k on a.baby_person_id = k.person_id\n",
    "  left join (\n",
    "    select\n",
    "      distinct baby_person_id\n",
    "    from\n",
    "      global_temp.mom_baby_step4_mom_oud_update\n",
    "  ) l on a.baby_person_id = l.baby_person_id\n",
    "  left join global_temp.mom_baby_step4_mom_oud_ip1_update m on a.baby_person_id = m.baby_person_id\n",
    "  left join global_temp.mom_baby_step4_mom_oud_op2_update n on a.baby_person_id = n.baby_person_id\n",
    "  left join (\n",
    "    select\n",
    "      distinct baby_person_id\n",
    "    from\n",
    "      global_temp.mom_drug_dob30days_all_doctype_op\n",
    "  ) o on a.baby_person_id = o.baby_person_id\n",
    "  left join (\n",
    "    select\n",
    "      distinct FACT_ID_2\n",
    "    from\n",
    "      global_temp.search_opioid_terms_cleaned_medicationlist\n",
    "  ) p on a.baby_person_id = p.FACT_ID_2\n",
    "  left join (\n",
    "    select\n",
    "      distinct baby_person_id\n",
    "    from\n",
    "      global_temp.mom_baby_step1_matopioidtoxicology_all_birthhospital\n",
    "  ) q --check later\n",
    "  on a.baby_person_id = q.baby_person_id\n",
    "  left join (\n",
    "    select\n",
    "      distinct baby_person_id\n",
    "    from\n",
    "      global_temp.mom_baby_step1_baby1stvisit_all\n",
    "    where\n",
    "      baby_1st_visit_problem != 'N'\n",
    "  ) r on a.baby_person_id = r.baby_person_id;\n",
    "\"\"\"\n",
    "mom_baby_2010_mombabypair_latest_version = spark.sql(sql)\n",
    "mom_baby_2010_mombabypair_latest_version.write.mode(\"overwrite\").saveAsTable(\"phenotype_output.mprint_cohort\")"
   ]
  },
  {
   "cell_type": "code",
   "execution_count": 0,
   "metadata": {
    "application/vnd.databricks.v1+cell": {
     "cellMetadata": {
      "byteLimit": 2048000,
      "rowLimit": 10000
     },
     "inputWidgets": {},
     "nuid": "8ec193fa-e596-4cb7-a02e-64f9c84abd90",
     "showTitle": false,
     "title": ""
    }
   },
   "outputs": [],
   "source": [
    "df_inspection(\"phenotype_output.mprint_cohort\",\"all\")"
   ]
  }
 ],
 "metadata": {
  "application/vnd.databricks.v1+notebook": {
   "dashboards": [],
   "language": "python",
   "notebookMetadata": {
    "mostRecentlyExecutedCommandWithImplicitDF": {
     "commandId": 3845797163504350,
     "dataframes": [
      "_sqldf"
     ]
    },
    "pythonIndentUnit": 4
   },
   "notebookName": "14_create_final_table",
   "widgets": {}
  },
  "kernelspec": {
   "display_name": "Python 3 (ipykernel)",
   "language": "python",
   "name": "python3"
  },
  "language_info": {
   "codemirror_mode": {
    "name": "ipython",
    "version": 3
   },
   "file_extension": ".py",
   "mimetype": "text/x-python",
   "name": "python",
   "nbconvert_exporter": "python",
   "pygments_lexer": "ipython3",
   "version": "3.9.12"
  }
 },
 "nbformat": 4,
 "nbformat_minor": 0
}
