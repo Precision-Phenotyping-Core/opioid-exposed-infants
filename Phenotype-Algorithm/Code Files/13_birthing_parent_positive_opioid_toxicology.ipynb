{
 "cells": [
  {
   "cell_type": "markdown",
   "metadata": {
    "application/vnd.databricks.v1+cell": {
     "cellMetadata": {},
     "inputWidgets": {},
     "nuid": "7966e4a3-344f-4ab7-bb14-c055e8dc12e9",
     "showTitle": false,
     "title": ""
    }
   },
   "source": [
    "# Project: Performance of phenotype algorithms for the identification of opioid-exposed infants, Andrew D. Wiese et al. Hospital Pediatrics 2024\n",
    "# Title: Identify birthing parents with positive opioid toxicology result \n",
    "# Summary: \n",
    "## Identify birthing parents with positive opioid toxicology results during birth hospitalization\n",
    "\n"
   ]
  },
  {
   "cell_type": "markdown",
   "metadata": {
    "application/vnd.databricks.v1+cell": {
     "cellMetadata": {},
     "inputWidgets": {},
     "nuid": "52afdea1-3a53-463b-aed9-7a38fed845bd",
     "showTitle": false,
     "title": ""
    }
   },
   "source": [
    "\n",
    "##### Algorithm steps:\n",
    "```\n",
    "1. Read opioid toxicology code list table into dataframe\n",
    "2. Get measurements dataframe using short name column:\n",
    "    - Filter measurements table to mom IDs from mom-baby table\n",
    "    - Join with code list table on short name\n",
    "3. Get measurements dataframe using long name column:\n",
    "    - Filter measurements table to mom IDs from mom-baby table \n",
    "    - Join with code list table on long name\n",
    "4. Union the short name and long name dataframes\n",
    "5. Join with mom-baby table to get mom and baby person IDs\n",
    "6. Filter to birth hospitalization visit:\n",
    "    - Join with baby's first visit table\n",
    "    - Filter measurement date between first visit start and end dates\n",
    "```  \n",
    "\n",
    "##### Data dictionaries:\n",
    "\n",
    "- meas_table: measurements table\n",
    "- opioid_toxicology_code_list: table with opioid toxicology codes\n",
    "- mom_baby_step1: temp table with mom and baby IDs \n",
    "- mom_baby_step1_baby1stvisit_all: temp table with baby's first visit info\n",
    "- meas_df_short: measurements dataframe using short name join\n",
    "- meas_df_long: measurements dataframe using long name join \n",
    "- meas_df: union of short and long name dataframes\n",
    "- mom_baby_step1_matopioidtoxicology_all: all opioid toxicology measurements\n",
    "- mom_baby_step1_matopioidtoxicology_all_birthhospital: filtered to birth hospitalization\n",
    "\n",
    "##### Other usage notes:\n",
    "```\n",
    "- Use lowercase and trim when joining to account for case differences\n",
    "```"
   ]
  },
  {
   "cell_type": "code",
   "execution_count": 0,
   "metadata": {
    "ExecuteTime": {
     "end_time": "2023-01-09T16:55:16.161097Z",
     "start_time": "2023-01-09T16:55:06.334305Z"
    },
    "application/vnd.databricks.v1+cell": {
     "cellMetadata": {
      "byteLimit": 2048000,
      "rowLimit": 10000
     },
     "inputWidgets": {},
     "nuid": "f5e7b029-0e14-4ee0-b941-caebd71b2545",
     "showTitle": false,
     "title": ""
    }
   },
   "outputs": [],
   "source": [
    "%run \"./project_modules\""
   ]
  },
  {
   "cell_type": "code",
   "execution_count": 0,
   "metadata": {
    "application/vnd.databricks.v1+cell": {
     "cellMetadata": {
      "implicitDf": true
     },
     "inputWidgets": {},
     "nuid": "71147acf-4e76-4794-af4e-729ef1840a71",
     "showTitle": false,
     "title": ""
    }
   },
   "outputs": [],
   "source": [
    "%sql\n",
    "select * from phenotyping.mprint_sheet_14_mat_opioid_toxicology"
   ]
  },
  {
   "cell_type": "markdown",
   "metadata": {
    "application/vnd.databricks.v1+cell": {
     "cellMetadata": {
      "byteLimit": 2048000,
      "rowLimit": 10000
     },
     "inputWidgets": {},
     "nuid": "165056e4-84de-4d17-b5d1-c0adce808b02",
     "showTitle": false,
     "title": ""
    }
   },
   "source": [
    "##### mom_baby_step1_matopioidtoxicology_all"
   ]
  },
  {
   "cell_type": "code",
   "execution_count": 0,
   "metadata": {
    "application/vnd.databricks.v1+cell": {
     "cellMetadata": {
      "byteLimit": 2048000,
      "rowLimit": 10000
     },
     "inputWidgets": {},
     "nuid": "4645754f-07ab-452f-9a9a-447af9040d06",
     "showTitle": false,
     "title": ""
    }
   },
   "outputs": [],
   "source": [
    "def get_meas_df(col_name):\n",
    "    \n",
    "    sql=f\"\"\"\n",
    "        select * from (\n",
    "            select * from {meas_table} where person_id in (select fact_id_1 from global_temp.mom_baby_step1)\n",
    "            and ((lower(value_source_value) like '%positive%' or \n",
    "             lower(value_source_value) like '%present%' or \n",
    "             lower(value_source_value) like '%reactive%') or \n",
    "             value_as_number is not null)\n",
    "        ) a\n",
    "        inner join \n",
    "        {opioid_toxicology_code_list} b \n",
    "       \n",
    "        on lower(trim(measurement_source_value)) LIKE '%' || lower(b.{col_name}) || '%'\n",
    "       \n",
    "        \"\"\"\n",
    "  \n",
    "    df = spark.sql(sql)\n",
    "    return df"
   ]
  },
  {
   "cell_type": "code",
   "execution_count": 0,
   "metadata": {
    "ExecuteTime": {
     "end_time": "2023-01-09T16:57:37.191649Z",
     "start_time": "2023-01-09T16:57:18.459998Z"
    },
    "application/vnd.databricks.v1+cell": {
     "cellMetadata": {
      "byteLimit": 2048000,
      "rowLimit": 10000
     },
     "inputWidgets": {},
     "nuid": "8898a3f0-af31-4713-8819-7fea316e9682",
     "showTitle": false,
     "title": ""
    }
   },
   "outputs": [],
   "source": [
    "meas_df_short = get_meas_df('short_name')\n",
    "meas_df_long = get_meas_df('long_name')\n",
    "meas_df = union_dataframes([meas_df_short,meas_df_long])\n",
    "\n",
    "meas_df.name=\"mat_opioid_toxicology\"\n",
    "register_parquet_global_view(meas_df)\n",
    "\n",
    "sql=\"\"\"\n",
    "    select * from global_temp.mat_opioid_toxicology\n",
    "    inner join \n",
    "    (select fact_id_1 as mom_person_id, fact_id_2 as baby_person_id, birth_datetime from global_temp.mom_baby_step1) as maternal \n",
    "    on global_temp.mat_opioid_toxicology.person_id = maternal.mom_person_id;\n",
    "\"\"\"\n",
    "\n",
    "mom_baby_step1_matopioidtoxicology_all = spark.sql(sql)\n",
    "mom_baby_step1_matopioidtoxicology_all.createOrReplaceTempView(\"mom_baby_step1_matopioidtoxicology_all\") "
   ]
  },
  {
   "cell_type": "markdown",
   "metadata": {
    "application/vnd.databricks.v1+cell": {
     "cellMetadata": {
      "byteLimit": 2048000,
      "rowLimit": 10000
     },
     "inputWidgets": {},
     "nuid": "04b8a0dc-0b5f-4978-a95e-0dd9d786cc04",
     "showTitle": false,
     "title": ""
    }
   },
   "source": [
    "##### Validation"
   ]
  },
  {
   "cell_type": "code",
   "execution_count": 0,
   "metadata": {
    "application/vnd.databricks.v1+cell": {
     "cellMetadata": {
      "byteLimit": 2048000,
      "rowLimit": 10000
     },
     "inputWidgets": {},
     "nuid": "34d497cf-ac5b-4993-998f-fa2719ee6801",
     "showTitle": false,
     "title": ""
    }
   },
   "outputs": [],
   "source": [
    "df_inspection(\"mom_baby_step1_matopioidtoxicology_all\",\"all\")"
   ]
  },
  {
   "cell_type": "markdown",
   "metadata": {
    "application/vnd.databricks.v1+cell": {
     "cellMetadata": {
      "byteLimit": 2048000,
      "rowLimit": 10000
     },
     "inputWidgets": {},
     "nuid": "e0c0040b-5034-4a63-a371-6d16f01adc09",
     "showTitle": false,
     "title": ""
    }
   },
   "source": [
    "##### time windows: birth hospitalization"
   ]
  },
  {
   "cell_type": "code",
   "execution_count": 0,
   "metadata": {
    "application/vnd.databricks.v1+cell": {
     "cellMetadata": {
      "byteLimit": 2048000,
      "rowLimit": 10000
     },
     "inputWidgets": {},
     "nuid": "3c3afd56-b3a3-4d11-a128-0da80a02b945",
     "showTitle": false,
     "title": ""
    }
   },
   "outputs": [],
   "source": [
    "sql=\"\"\"\n",
    "       select a.baby_person_id,person_id as mom_person_id, MEASUREMENT_ID,MEASUREMENT_DATE,MEASUREMENT_DATETIME,\n",
    "       VALUE_AS_NUMBER,RANGE_LOW,RANGE_HIGH,VISIT_OCCURRENCE_ID,MEASUREMENT_SOURCE_VALUE,UNIT_SOURCE_VALUE,\n",
    "       VALUE_SOURCE_VALUE,SHORT_NAME as short_name_search_term,LONG_NAME as long_name_search_term,first_visit_start_date,\n",
    "       first_visit_end_date,baby_1st_visit_problem  from mom_baby_step1_matopioidtoxicology_all a\n",
    "       \n",
    "       join \n",
    "       global_temp.mom_baby_step1_baby1stvisit_all b\n",
    "       \n",
    "       on a.baby_person_id=b.baby_person_id AND a.birth_datetime=b.birth_datetime\n",
    "       where measurement_date >= first_visit_start_date and measurement_date <= first_visit_end_date\n",
    "    \"\"\"\n",
    "\n",
    "mom_baby_step1_matopioidtoxicology_all_birthhospital = spark.sql(sql)\n",
    "mom_baby_step1_matopioidtoxicology_all_birthhospital.name='mom_baby_step1_matopioidtoxicology_all_birthhospital'\n",
    "register_parquet_global_view(mom_baby_step1_matopioidtoxicology_all_birthhospital)"
   ]
  },
  {
   "cell_type": "code",
   "execution_count": 0,
   "metadata": {
    "application/vnd.databricks.v1+cell": {
     "cellMetadata": {
      "byteLimit": 2048000,
      "rowLimit": 10000
     },
     "inputWidgets": {},
     "nuid": "a5d5cbc4-d638-4937-be23-14b611b31a3c",
     "showTitle": false,
     "title": ""
    }
   },
   "outputs": [],
   "source": [
    "df_inspection(\"global_temp.mom_baby_step1_matopioidtoxicology_all_birthhospital\",\"all\")"
   ]
  }
 ],
 "metadata": {
  "application/vnd.databricks.v1+notebook": {
   "dashboards": [],
   "language": "python",
   "notebookMetadata": {
    "mostRecentlyExecutedCommandWithImplicitDF": {
     "commandId": 539375833291890,
     "dataframes": [
      "_sqldf"
     ]
    },
    "pythonIndentUnit": 4
   },
   "notebookName": "13_birthing_parent_positive_opioid_toxicology",
   "widgets": {}
  },
  "kernelspec": {
   "display_name": "Python 3 (ipykernel)",
   "language": "python",
   "name": "python3"
  },
  "language_info": {
   "codemirror_mode": {
    "name": "ipython",
    "version": 3
   },
   "file_extension": ".py",
   "mimetype": "text/x-python",
   "name": "python",
   "nbconvert_exporter": "python",
   "pygments_lexer": "ipython3",
   "version": "3.9.12"
  }
 },
 "nbformat": 4,
 "nbformat_minor": 0
}
